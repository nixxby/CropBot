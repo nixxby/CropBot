{
 "cells": [
  {
   "cell_type": "code",
   "execution_count": 173,
   "metadata": {},
   "outputs": [],
   "source": [
    "import pandas as pd\n",
    "import numpy as np\n",
    "import matplotlib.pyplot as plt\n",
    "import seaborn as sns\n",
    "from sklearn import metrics\n",
    "\n",
    "import requests, json   \n",
    "api_key = \"d0a2301b1066be60a90b946462380bab\"\n",
    "\n",
    "import warnings\n",
    "warnings.filterwarnings('ignore')"
   ]
  },
  {
   "cell_type": "code",
   "execution_count": 160,
   "metadata": {},
   "outputs": [],
   "source": [
    "df = pd.read_csv('Crop_recommendation.csv')"
   ]
  },
  {
   "cell_type": "code",
   "execution_count": 161,
   "metadata": {},
   "outputs": [],
   "source": [
    "params = df[['N', 'P','K','temperature', 'humidity', 'ph', 'rainfall']]\n",
    "labels = df['label']\n",
    "crops = df['label'].unique()\n",
    "crops = sorted(crops)"
   ]
  },
  {
   "cell_type": "code",
   "execution_count": 162,
   "metadata": {},
   "outputs": [],
   "source": [
    "from sklearn.model_selection import train_test_split\n",
    "Xtrain, Xtest, Ytrain, Ytest = train_test_split(features,target,test_size = 0.2,random_state =2)"
   ]
  },
  {
   "cell_type": "code",
   "execution_count": 178,
   "metadata": {},
   "outputs": [
    {
     "name": "stdout",
     "output_type": "stream",
     "text": [
      "Logistic Regression's Accuracy is:  95.227 %.\n"
     ]
    }
   ],
   "source": [
    "from sklearn.linear_model import LogisticRegression\n",
    "\n",
    "LogReg = LogisticRegression(random_state=2)\n",
    "\n",
    "LogReg.fit(Xtrain,Ytrain)\n",
    "\n",
    "predicted_values = LogReg.predict(Xtest)\n",
    "\n",
    "x = metrics.accuracy_score(Ytest, predicted_values)\n",
    "print(\"Logistic Regression's Accuracy is: \", round(x*100.000,3),\"%.\")"
   ]
  },
  {
   "cell_type": "code",
   "execution_count": 189,
   "metadata": {},
   "outputs": [
    {
     "name": "stdout",
     "output_type": "stream",
     "text": [
      "Enter your city name : Ahmedabad\n",
      " Temperature (in ℃) \t= 31.0\n",
      " humidity (in %) \t= 30\n"
     ]
    }
   ],
   "source": [
    "base_url = \"http://api.openweathermap.org/data/2.5/weather?\"\n",
    "city_name = input(\"Enter your city name : \") \n",
    "complete_url = base_url + \"appid=\" + api_key + \"&q=\" + city_name \n",
    "response = requests.get(complete_url) \n",
    "  \n",
    "x = response.json() \n",
    "  \n",
    "if x[\"cod\"] != \"404\": \n",
    "  \n",
    "    y = x[\"main\"] \n",
    "    current_temperature = y[\"temp\"] - 273.15 \n",
    "    current_humidity = y[\"humidity\"]  \n",
    "    print(\" Temperature (in ℃) \\t= \" +\n",
    "                    str(round(current_temperature,2)) + \n",
    "          \"\\n humidity (in %) \\t= \" +\n",
    "                    str(current_humidity)) \n",
    "else: \n",
    "    print(\" City Not Found \") "
   ]
  },
  {
   "cell_type": "code",
   "execution_count": 190,
   "metadata": {},
   "outputs": [
    {
     "name": "stdout",
     "output_type": "stream",
     "text": [
      "These are the top 3 crops you should plant: \n",
      "1 )  chickpea having a predicted probability of: 99.99999876 %.\n",
      "2 )  banana having a predicted probability of: 1.24e-06 %.\n",
      "3 )  papaya having a predicted probability of: 0.0 %.\n"
     ]
    }
   ],
   "source": [
    "data = np.array([[110,100, 120, current_temperature, current_humidiy, 7, 150]])\n",
    "\n",
    "prediction = LogReg.predict_proba(data)\n",
    "probabilities = prediction[0]\n",
    "probabilities =sorted(probabilities, reverse=True)\n",
    "print(\"These are the top 3 crops you should plant: \")\n",
    "\n",
    "for i in range (0,3):\n",
    "    print(i+1,\") \",crops[prediction[0].tolist().index(probabilities[i])],\"having a predicted probability of:\",round(probabilities[i],10)*100,\"%.\" )"
   ]
  },
  {
   "cell_type": "code",
   "execution_count": 165,
   "metadata": {},
   "outputs": [
    {
     "name": "stdout",
     "output_type": "stream",
     "text": [
      "These are the top 3 crops you should plant: \n",
      "1 )  jute having a predicted probability of: 93.94462614 %.\n",
      "2 )  banana having a predicted probability of: 5.33419106 %.\n",
      "3 )  papaya having a predicted probability of: 0.72025043 %.\n"
     ]
    }
   ],
   "source": [
    "data = np.array([[83, 45, 60, 28, 70.3, 7.0, 150.9]])\n",
    "\n",
    "prediction = LogReg.predict_proba(data)\n",
    "probabilities = prediction[0]\n",
    "probabilities =sorted(probabilities, reverse=True)\n",
    "print(\"These are the top 3 crops you should plant: \")\n",
    "\n",
    "for i in range (0,3):\n",
    "    print(i+1,\") \",crops[prediction[0].tolist().index(probabilities[i])],\"having a predicted probability of:\",round(probabilities[i],10)*100,\"%.\"  )"
   ]
  }
 ],
 "metadata": {
  "kernelspec": {
   "display_name": "Python 3",
   "language": "python",
   "name": "python3"
  },
  "language_info": {
   "codemirror_mode": {
    "name": "ipython",
    "version": 3
   },
   "file_extension": ".py",
   "mimetype": "text/x-python",
   "name": "python",
   "nbconvert_exporter": "python",
   "pygments_lexer": "ipython3",
   "version": "3.8.5"
  }
 },
 "nbformat": 4,
 "nbformat_minor": 4
}
